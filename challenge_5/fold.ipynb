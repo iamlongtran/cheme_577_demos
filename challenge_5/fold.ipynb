{
 "cells": [
  {
   "cell_type": "code",
   "execution_count": 1,
   "metadata": {},
   "outputs": [],
   "source": [
    "import os\n",
    "import sys\n",
    "import re\n",
    "import random\n",
    "import numpy as np\n",
    "import pandas as pd\n",
    "import glob\n",
    "import matplotlib.pyplot as plt\n",
    "import seaborn as sns\n",
    "import subprocess\n",
    "\n",
    "from sklearn.cluster import KMeans\n",
    "import sklearn.metrics as sm\n",
    "%matplotlib inline\n",
    "pd.options.display.max_colwidth = 1000\n",
    "\n",
    "sys.path.insert(0,'/home/lhtran/sc/')\n",
    "from get_rmsds_functions import TMalign\n",
    "from get_rmsds_functions import get_RMSD\n",
    "import check_interactions_to_lig\n",
    "import get_pock_res_return as pockres\n",
    "from libSlurm import make_submit_file\n",
    "import libPDB\n",
    "\n",
    "from tqdm import tqdm\n",
    "\n"
   ]
  },
  {
   "cell_type": "code",
   "execution_count": 2,
   "metadata": {},
   "outputs": [],
   "source": [
    "home_dir = '/home/lhtran/class/cheme_577/challenge_5'\n",
    "os.chdir(home_dir)\n",
    "pdb = f'{home_dir}/5tje_trim.pdb'\n",
    "fasta = f'{home_dir}/5tje_trim.fasta'"
   ]
  },
  {
   "attachments": {},
   "cell_type": "markdown",
   "metadata": {},
   "source": [
    "### superfold predictions of complexes"
   ]
  },
  {
   "cell_type": "code",
   "execution_count": 3,
   "metadata": {},
   "outputs": [],
   "source": [
    "pdb = f'{home_dir}/5tje_trim.pdb'"
   ]
  },
  {
   "cell_type": "code",
   "execution_count": 17,
   "metadata": {},
   "outputs": [],
   "source": [
    "cmds = []\n",
    "\n",
    "#tag = pdb.strip().split('/')[-1].split('.pdb')[0]\n",
    "outdir = f'{home_dir}/output_multimer/'    \n",
    "os.makedirs(outdir, exist_ok=True)\n",
    "\n",
    "cmd = f'/software/lab/superfold/superfold {pdb}'\n",
    "cmd += ' --models all '\n",
    "cmd += '--version multimer '\n",
    "cmd += '--type multimer_v2 '\n",
    "cmd += '--max_recycles 5 '\n",
    "cmd += '--recycle_tol 0 '\n",
    "cmd += '--seed_start 0 '\n",
    "cmd += '--nstruct 1 '\n",
    "cmd += f'--out_dir {outdir} '\n",
    "cmd += '--output_pae '\n",
    "cmd += '--output_summary '\n",
    "cmd += '--simple_rmsd '\n",
    "cmd += '--initial_guess'\n",
    "cmds.append(cmd)\n"
   ]
  },
  {
   "cell_type": "code",
   "execution_count": 18,
   "metadata": {},
   "outputs": [
    {
     "data": {
      "text/plain": [
       "'/software/lab/superfold/superfold /home/lhtran/class/cheme_577/challenge_5/5tje_trim.pdb --models all --version multimer --type multimer_v2 --max_recycles 5 --recycle_tol 0 --seed_start 0 --nstruct 1 --out_dir /home/lhtran/class/cheme_577/challenge_5/output_multimer/ --output_pae --output_summary --simple_rmsd --initial_guess'"
      ]
     },
     "execution_count": 18,
     "metadata": {},
     "output_type": "execute_result"
    }
   ],
   "source": [
    "cmd"
   ]
  },
  {
   "cell_type": "code",
   "execution_count": 19,
   "metadata": {},
   "outputs": [],
   "source": [
    "with open(f'{home_dir}/superfold_cmd_multi', 'w') as f:\n",
    "    f.write('\\n'.join(cmds))\n"
   ]
  },
  {
   "cell_type": "code",
   "execution_count": 20,
   "metadata": {},
   "outputs": [],
   "source": [
    "make_submit_file(cmds = f'{home_dir}/superfold_cmd_multi', submitfile = f'{home_dir}/submit_superfold_multi.sh', time='3:00:00', group_size=1, logsfolder='logs', cpus=2, mem='8g', needs_gpu=True, gpu_type='rtx2080')"
   ]
  },
  {
   "attachments": {},
   "cell_type": "markdown",
   "metadata": {},
   "source": [
    "### mlfold"
   ]
  },
  {
   "cell_type": "code",
   "execution_count": 6,
   "metadata": {},
   "outputs": [],
   "source": [
    "cmd = f'/software/mlfold/mlfold.py --pdb-file {pdb} --af-models 1 2 3 4 5 --output-dir {home_dir}/output_af2/'"
   ]
  },
  {
   "cell_type": "code",
   "execution_count": null,
   "metadata": {},
   "outputs": [],
   "source": [
    "with open(f'{home_dir}/af2_cmd', 'w') as f:\n",
    "    f.write(cmd)\n"
   ]
  },
  {
   "cell_type": "code",
   "execution_count": 7,
   "metadata": {},
   "outputs": [
    {
     "data": {
      "text/plain": [
       "'/software/mlfold/mlfold.py --pdb-file /home/lhtran/class/cheme_577/challenge_5/5tje_trim.pdb --af-models 1 2 3 4 5 --output-dir /home/lhtran/class/cheme_577/challenge_5/output_af2/'"
      ]
     },
     "execution_count": 7,
     "metadata": {},
     "output_type": "execute_result"
    }
   ],
   "source": [
    "cmd"
   ]
  },
  {
   "attachments": {},
   "cell_type": "markdown",
   "metadata": {},
   "source": [
    "### colabFold"
   ]
  },
  {
   "cell_type": "code",
   "execution_count": 21,
   "metadata": {},
   "outputs": [],
   "source": [
    "cmds = []\n",
    "cmds.append(f'/software/containers/colabfold.sif colabfold_batch --model-type alphafold2_multimer_v3 {fasta} {home_dir}/colabfold_multi/')\n",
    "cmds.append(f'/software/containers/colabfold.sif colabfold_batch --model-type alphafold2_multimer_v3 {fasta} {home_dir}/colabfold_multi_template/ --templates')\n",
    "cmds.append(f'/software/containers/colabfold.sif colabfold_batch --model-type alphafold2_ptm {fasta} {home_dir}/colabfold_mono/')\n",
    "cmds.append(f'/software/containers/colabfold.sif colabfold_batch --model-type alphafold2_ptm {fasta} {home_dir}/colabfold_mono_template/ --templates')\n"
   ]
  },
  {
   "cell_type": "code",
   "execution_count": 22,
   "metadata": {},
   "outputs": [
    {
     "data": {
      "text/plain": [
       "'/software/containers/colabfold.sif colabfold_batch --model-type alphafold2_ptm /home/lhtran/class/cheme_577/challenge_5/5tje_trim.fasta /home/lhtran/class/cheme_577/challenge_5/colabfold_mono_template/ --templates'"
      ]
     },
     "execution_count": 22,
     "metadata": {},
     "output_type": "execute_result"
    }
   ],
   "source": [
    "cmds[-1]"
   ]
  },
  {
   "attachments": {},
   "cell_type": "markdown",
   "metadata": {},
   "source": [
    "### collect results"
   ]
  },
  {
   "cell_type": "code",
   "execution_count": null,
   "metadata": {},
   "outputs": [],
   "source": [
    "#mono\n",
    "rmds_A = 0.516\n",
    "rmsd_H = 0.433\n",
    "rmsd_G = 0.516\n",
    "rmsd_I = 5.596"
   ]
  }
 ],
 "metadata": {
  "kernelspec": {
   "display_name": "SE3nv",
   "language": "python",
   "name": "python3"
  },
  "language_info": {
   "codemirror_mode": {
    "name": "ipython",
    "version": 3
   },
   "file_extension": ".py",
   "mimetype": "text/x-python",
   "name": "python",
   "nbconvert_exporter": "python",
   "pygments_lexer": "ipython3",
   "version": "3.10.9"
  },
  "orig_nbformat": 4
 },
 "nbformat": 4,
 "nbformat_minor": 2
}
