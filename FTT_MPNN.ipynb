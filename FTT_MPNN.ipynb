{
 "cells": [
  {
   "cell_type": "code",
   "execution_count": 3,
   "id": "2b2db50f",
   "metadata": {},
   "outputs": [],
   "source": [
    "### SE3nv for now,\n",
    "import os\n",
    "import sys\n",
    "import re\n",
    "import random\n",
    "import numpy as np\n",
    "import pandas as pd\n",
    "import glob\n",
    "import yaml\n",
    "import matplotlib.pyplot as plt\n",
    "import seaborn as sns\n",
    "import subprocess\n",
    "from shutil import copyfile\n",
    "import tempfile\n",
    "import shutil\n",
    "from collections import defaultdict\n",
    "#import xarray\n",
    "import gzip\n",
    "import time\n",
    "import json\n",
    "from Bio import SeqIO\n",
    "import json\n",
    "from sklearn import metrics\n",
    "\n",
    "\n",
    "from sklearn.cluster import KMeans\n",
    "import sklearn.metrics as sm\n",
    "%matplotlib inline\n",
    "pd.options.display.max_colwidth = 1000\n",
    "\n",
    "sys.path.append('/home/lhtran/sc/')\n",
    "from get_rmsds_functions import TMalign\n",
    "from get_rmsds_functions import get_RMSD\n",
    "import check_interactions_to_lig\n",
    "from utils import parsers\n",
    "from read_af2_pdb import get_af2_scores\n",
    "\n",
    "from pyrosetta import *\n",
    "\n",
    "from libSlurm import make_submit_file\n",
    "from libSlurm import make_dist_plots\n",
    "from libSlurm import sed_inplace\n",
    "from libSlurm import grep\n",
    "from libSlurm import get_flags\n",
    "from libSlurm import plot_ROC\n",
    "from libCommonJupyterFunc import get_total_scores\n",
    "from check_interactions_to_lig import get_lig_num\n",
    "from check_interactions_to_lig import get_hb2lig\n",
    "from tqdm import tqdm"
   ]
  },
  {
   "cell_type": "code",
   "execution_count": 4,
   "id": "af9bdced",
   "metadata": {},
   "outputs": [],
   "source": [
    "home_dir = os.getcwd()\n",
    "\n",
    "# scratch_dir = f'/net/scratch/lhtran/est_binder/'\n",
    "# os.chdir(home_dir)"
   ]
  },
  {
   "cell_type": "code",
   "execution_count": 3,
   "id": "6a3a7c0d",
   "metadata": {},
   "outputs": [],
   "source": [
    "out = parsers.parse_pdb(f'{home_dir}/3nir.pdb')"
   ]
  },
  {
   "cell_type": "code",
   "execution_count": 42,
   "id": "92bd0f33",
   "metadata": {},
   "outputs": [],
   "source": [
    "#torch.tensor(out['xyz'])"
   ]
  },
  {
   "cell_type": "code",
   "execution_count": 3,
   "id": "444a7a3b",
   "metadata": {},
   "outputs": [],
   "source": [
    "def RMSD(V, W):\n",
    "    \"\"\"\n",
    "    Calculate Root-mean-square deviation from two sets of vectors V and W.\n",
    "    Parameters\n",
    "    ----------\n",
    "    V : array\n",
    "        (N,D) matrix, where N is points and D is dimension.\n",
    "    W : array\n",
    "        (N,D) matrix, where N is points and D is dimension.\n",
    "    Returns\n",
    "    -------\n",
    "    rmsd : float\n",
    "        Root-mean-square deviation between the two vectors\n",
    "    \"\"\"\n",
    "    diff = np.array(V) - np.array(W)\n",
    "    N = len(V)\n",
    "    return np.sqrt((diff * diff).sum() / N)"
   ]
  },
  {
   "attachments": {},
   "cell_type": "markdown",
   "id": "58d917a5",
   "metadata": {},
   "source": [
    "## MPNN + AF2"
   ]
  },
  {
   "cell_type": "code",
   "execution_count": null,
   "id": "78d314ae",
   "metadata": {},
   "outputs": [],
   "source": [
    "## read pdb"
   ]
  },
  {
   "cell_type": "code",
   "execution_count": 18,
   "id": "413f39b7",
   "metadata": {},
   "outputs": [],
   "source": [
    "#test_pdb = f'{home_dir}/3nir.pdb'\n",
    "test_pdb = f'{home_dir}/C4.pdb'"
   ]
  },
  {
   "cell_type": "code",
   "execution_count": 19,
   "id": "7f9b42f3",
   "metadata": {},
   "outputs": [],
   "source": [
    "### FTT test_pdb xyz coordinates\n",
    "new_xyz = []\n",
    "xyz = []\n",
    "new_pdb = []\n",
    "#simple_pdb = []\n",
    "with open(test_pdb, 'r') as f:\n",
    "    lines = f.readlines()\n",
    "    for line in lines:\n",
    "        atom_type = line[13:15].strip() #Ca/Cb/N/O/C\n",
    "        if line.startswith('ATOM') and (atom_type == 'CA' or atom_type == 'CB' or atom_type =='N' or atom_type =='O' or atom_type=='C'):\n",
    "            new_pdb.append(line)\n",
    "            #xyz_true=(list(line[30:54].split(' ')))\n",
    "            # xyz_np = []\n",
    "            # for k in xyz_true:\n",
    "            #     if k != '':\n",
    "            #         xyz_np.append(float(k))\n",
    "            # new_xyz.append(np.array(xyz_np))\n",
    "            # xyz.append(np.fft.fftn(new_xyz))\n",
    "            #print(atom_type)\n",
    "            #print(xyz)\n",
    "with open(f'{home_dir}/C4_bb.pdb', 'w') as f:\n",
    "    for line in new_pdb:\n",
    "        f.write(line)"
   ]
  },
  {
   "cell_type": "code",
   "execution_count": 43,
   "id": "4e431230",
   "metadata": {},
   "outputs": [],
   "source": [
    "# FTT xyz coord of bb, noise, and inverse FTT\n",
    "xyz_true = []\n",
    "xyz_FTT = []\n",
    "xyz_IFTT = []\n",
    "with open(f'{home_dir}/C4_bb.pdb', 'r') as f:\n",
    "    lines = f.readlines()\n",
    "    for line in lines:\n",
    "        xyz_curr = []\n",
    "        xyz = (list(line[30:54].split(' ')))\n",
    "        for j in xyz:\n",
    "            if j != '':\n",
    "                xyz_curr.append(float(j))\n",
    "        xyz_true.append(np.array(xyz_curr))\n",
    "\n",
    "for i in xyz_true:\n",
    "    xyz_ftt  = np.fft.fftn(i) + np.random.normal(0, 0.2, 3)\n",
    "    xyz_FTT.append(xyz_ftt)\n",
    "    xyz_IFTT.append(np.ndarray.round(np.real(np.fft.ifftn(xyz_ftt)), decimals=3))"
   ]
  },
  {
   "cell_type": "code",
   "execution_count": 44,
   "id": "62757790",
   "metadata": {},
   "outputs": [],
   "source": [
    "with open(f'{home_dir}/C4_bb.pdb', 'r') as f:\n",
    "    lines = f.readlines()\n",
    "    with open(f'{home_dir}/C4_bb_FTT.pdb', 'w') as f2:\n",
    "        for i,line in enumerate(lines):\n",
    "            line = line[:30] + f\"{(str(xyz_IFTT[i][0])):>8}\" + line[38:]\n",
    "            line = line[:38] + f\"{(str(xyz_IFTT[i][1])):>8}\" + line[46:]\n",
    "            line = line[:46] + f\"{(str(xyz_IFTT[i][2])):>8}\" + line[54:]\n",
    "            f2.write(line)\n",
    "            #print(line[33:38], line[38:46], line[46:54])\n",
    "\n"
   ]
  },
  {
   "cell_type": "code",
   "execution_count": 37,
   "id": "35cdb91a",
   "metadata": {},
   "outputs": [],
   "source": [
    "xyz_plot = []\n",
    "for tmp in xyz_FTT:\n",
    "    xyz_plot.append(tmp[1])\n",
    "\n"
   ]
  },
  {
   "cell_type": "code",
   "execution_count": 39,
   "id": "0680cf6b",
   "metadata": {},
   "outputs": [
    {
     "data": {
      "image/png": "[encoded data removed]",
      "text/plain": [
       "<Figure size 640x480 with 1 Axes>"
      ]
     },
     "metadata": {},
     "output_type": "display_data"
    }
   ],
   "source": [
    "# Number of samplepoints\n",
    "# N = 119\n",
    "# # sample spacing\n",
    "# T = 1.0 / 800.0\n",
    "# x = np.linspace(0.0, N*T, N)\n",
    "# y = np.sin(50.0 * 2.0*np.pi*x) + 0.5*np.sin(80.0 * 2.0*np.pi*x)\n",
    "# #yf = scipy.fftpack.fft(y)\n",
    "# yf = xyz_plot\n",
    "# xf = np.linspace(0.0, 1.0/(2.0*T), N//2)\n",
    "\n",
    "# fig, ax = plt.subplots()\n",
    "# ax.plot(xf, 2.0/N * np.abs(yf[:N//2][0]))\n",
    "# ax.set(\n",
    "#     xlim=(0, 100)\n",
    "# )\n",
    "# plt.show()\n",
    "len(xyz_plot)\n",
    "x_plot = [x.real for x in xyz_plot]\n",
    "y_plot = [x.imag for x in xyz_plot]\n",
    "plt.scatter(x_plot, y_plot)\n",
    "plt.ylabel('Imaginary')\n",
    "plt.xlabel('Real')\n",
    "plt.title('C-alpha FFT space')\n",
    "plt.show()"
   ]
  },
  {
   "cell_type": "code",
   "execution_count": 5,
   "id": "93d01324",
   "metadata": {},
   "outputs": [],
   "source": [
    "import get_pock_res_return as pockres"
   ]
  },
  {
   "cell_type": "code",
   "execution_count": 40,
   "id": "2b9db289",
   "metadata": {},
   "outputs": [],
   "source": [
    "pdbs = [f'{home_dir}/C4_bb.pdb', f'{home_dir}/C4_bb_FTT.pdb']\n",
    "cmds = []\n",
    "for pdb in pdbs:\n",
    "\n",
    "    pdb_name = pdb.split('/')[-1].split('.')[:-4]\n",
    "    cmd = '/software/conda/envs/PPI_design/bin/python /home/lhtran/sc/mpnn_generic_tied_design2.py --design_these_chains A --keep_these_chains NA --tie_chainsa NA --tie_chainsb NA --tie_repeats 0 --fix_a NA'\n",
    "    cmd += ' --fix_b NA --rmsd_cutoff 1.5 --max_designs_per_backbone 16 --num_seq_per_target 16 --sampling_temp \"0.005 0.01 0.1 0.2 0.3\" --plddt_cutoff 0.85 --ptm_cutoff 0.65 --pdb_path '\n",
    "    cmd += pdb\n",
    "    cmd += f' --out_name resampling --suffix _pbias --pdb_out_dir /home/lhtran/class/cheme_577/mpnn_af2/pdbs/'\n",
    "    cmd += '\\n'\n",
    "    cmds.append(cmd)\n",
    "    # with open(f'{home_dir}/mpnn_af2/{pdb}/array_task_mpnn_af2', 'w') as fp:\n",
    "    #     for j in cmds:\n",
    "    #         fp.write(j)"
   ]
  },
  {
   "cell_type": "code",
   "execution_count": 41,
   "id": "f6a6332f",
   "metadata": {},
   "outputs": [
    {
     "data": {
      "text/plain": [
       "('/software/conda/envs/PPI_design/bin/python /home/lhtran/sc/mpnn_generic_tied_design2.py --design_these_chains A --keep_these_chains NA --tie_chainsa NA --tie_chainsb NA --tie_repeats 0 --fix_a NA --fix_b NA --rmsd_cutoff 1.5 --max_designs_per_backbone 16 --num_seq_per_target 16 --sampling_temp \"0.005 0.01 0.1 0.2 0.3\" --plddt_cutoff 0.85 --ptm_cutoff 0.65 --pdb_path /mnt/home/lhtran/class/cheme_577/C4_bb.pdb --out_name resampling --suffix _pbias --pdb_out_dir /home/lhtran/class/cheme_577/mpnn_af2/pdbs/\\n',\n",
       " '/software/conda/envs/PPI_design/bin/python /home/lhtran/sc/mpnn_generic_tied_design2.py --design_these_chains A --keep_these_chains NA --tie_chainsa NA --tie_chainsb NA --tie_repeats 0 --fix_a NA --fix_b NA --rmsd_cutoff 1.5 --max_designs_per_backbone 16 --num_seq_per_target 16 --sampling_temp \"0.005 0.01 0.1 0.2 0.3\" --plddt_cutoff 0.85 --ptm_cutoff 0.65 --pdb_path /mnt/home/lhtran/class/cheme_577/C4_bb_FTT.pdb --out_name resampling --suffix _pbias --pdb_out_dir /home/lhtran/class/cheme_577/mpnn_af2/pdbs/\\n')"
      ]
     },
     "execution_count": 41,
     "metadata": {},
     "output_type": "execute_result"
    }
   ],
   "source": [
    "cmds[0],cmds[1]"
   ]
  },
  {
   "attachments": {},
   "cell_type": "markdown",
   "id": "3561e1fd",
   "metadata": {},
   "source": [
    "## SuperFold/ESMFold"
   ]
  },
  {
   "cell_type": "code",
   "execution_count": 7,
   "id": "e774d96e",
   "metadata": {},
   "outputs": [],
   "source": [
    "## prep pdb input from ligMPNN_FR\n",
    "ligmpnn_fr_scores = pd.read_csv(f'{home_dir}/ligmpnn_fr_scores_all.csv')\n",
    "len(ligmpnn_fr_scores)/20 #1494"
   ]
  },
  {
   "cell_type": "code",
   "execution_count": 47,
   "id": "d9b385de",
   "metadata": {},
   "outputs": [
    {
     "data": {
      "text/plain": [
       "'/mnt/home/lhtran/class/cheme_577'"
      ]
     },
     "execution_count": 47,
     "metadata": {},
     "output_type": "execute_result"
    }
   ],
   "source": [
    "home_dir"
   ]
  },
  {
   "attachments": {},
   "cell_type": "markdown",
   "id": "40138a5e",
   "metadata": {},
   "source": [
    "### LigMPNN_FR"
   ]
  },
  {
   "cell_type": "code",
   "execution_count": 48,
   "id": "86a43c02",
   "metadata": {},
   "outputs": [],
   "source": [
    "test_pdb = f'{home_dir}/C4_FOL.pdb'\n",
    "new_xyz = []\n",
    "xyz = []\n",
    "new_pdb = []\n",
    "lig_pdb = []\n",
    "#simple_pdb = []\n",
    "with open(test_pdb, 'r') as f:\n",
    "    lines = f.readlines()\n",
    "    for line in lines:\n",
    "        atom_type = line[13:15].strip() #Ca/Cb/N/O/C\n",
    "        if line.startswith('ATOM') and (atom_type == 'CA' or atom_type == 'CB' or atom_type =='N' or atom_type =='O' or atom_type=='C'):\n",
    "            new_pdb.append(line)\n",
    "\n",
    "with open(f'{home_dir}/C4_FOL_bb.pdb', 'w') as f:\n",
    "    for line in new_pdb:\n",
    "        f.write(line)"
   ]
  },
  {
   "cell_type": "code",
   "execution_count": 49,
   "id": "25b93722",
   "metadata": {},
   "outputs": [],
   "source": [
    "# FTT xyz coord of bb, noise, and inverse FTT\n",
    "xyz_true = []\n",
    "xyz_FTT = []\n",
    "xyz_IFTT = []\n",
    "with open(f'{home_dir}/C4_FOL_bb.pdb', 'r') as f:\n",
    "    lines = f.readlines()\n",
    "    for line in lines:\n",
    "        xyz_curr = []\n",
    "        xyz = (list(line[30:54].split(' ')))\n",
    "        for j in xyz:\n",
    "            if j != '':\n",
    "                xyz_curr.append(float(j))\n",
    "        xyz_true.append(np.array(xyz_curr))\n",
    "\n",
    "for i in xyz_true:\n",
    "    xyz_ftt  = np.fft.fftn(i) + np.random.normal(0, 0.1, 3)\n",
    "    xyz_FTT.append(xyz_ftt)\n",
    "    xyz_IFTT.append(np.ndarray.round(np.real(np.fft.ifftn(xyz_ftt)), decimals=3))"
   ]
  },
  {
   "cell_type": "code",
   "execution_count": 50,
   "id": "a4ae6360",
   "metadata": {},
   "outputs": [],
   "source": [
    "with open(f'{home_dir}/C4_FOL_bb.pdb', 'r') as f:\n",
    "    lines = f.readlines()\n",
    "    with open(f'{home_dir}/C4_FOL_bb_FTT.pdb', 'w') as f2:\n",
    "        for i,line in enumerate(lines):\n",
    "            line = line[:30] + f\"{(str(xyz_IFTT[i][0])):>8}\" + line[38:]\n",
    "            line = line[:38] + f\"{(str(xyz_IFTT[i][1])):>8}\" + line[46:]\n",
    "            line = line[:46] + f\"{(str(xyz_IFTT[i][2])):>8}\" + line[54:]\n",
    "            f2.write(line)\n",
    "            #print(line[33:38], line[38:46], line[46:54])\n",
    "\n"
   ]
  },
  {
   "cell_type": "code",
   "execution_count": 70,
   "id": "d894d714",
   "metadata": {},
   "outputs": [
    {
     "name": "stderr",
     "output_type": "stream",
     "text": [
      "100%|██████████| 2/2 [00:00<00:00,  6.26it/s]\n"
     ]
    }
   ],
   "source": [
    "pdbs = glob.glob(f'{home_dir}/C4_FOL_bb*.pdb')\n",
    "out_dir = f'{home_dir}/ligMPNN/'\n",
    "\n",
    "# pdb_list = open(f'{home_dir}/ligMPNN/pdb_list', 'w')\n",
    "# pock_list = open(f'{home_dir}/ligMPNN/pock_list', 'w')\n",
    "# outdir_list = open(f'{home_dir}/ligMPNN/outdir_list', 'w')\n",
    "pdb_list = [] \n",
    "pock_list = []\n",
    "outdir_list = []\n",
    "\n",
    "for pdb in tqdm(pdbs):\n",
    "    pock_res = pockres.main(pdb)\n",
    "    pdb_name = pdb.split('/')[-1][:-4]\n",
    "    pdb_list.append(f'{pdb}')\n",
    "    pock_list.append(f'{pock_res}')\n",
    "    out_dir_single = f'{out_dir}/{pdb_name}'\n",
    "    os.makedirs(out_dir_single, exist_ok=True)\n",
    "    outdir_list.append(f'{out_dir_single}')\n",
    "\n",
    "\n",
    "#os.makedirs('logs', exist_ok=True)"
   ]
  },
  {
   "cell_type": "code",
   "execution_count": 74,
   "id": "bc18674d",
   "metadata": {},
   "outputs": [],
   "source": [
    "cmds = []\n",
    "for i in range(len(pdbs)):\n",
    "    cmd = 'python /home/lhtran/sc/ligMPNN_FR.maskH.py '\n",
    "    cmd += f'--pdb_path {pdb_list[i]} '\n",
    "    cmd += f'--ligand_params_path {home_dir}/FOL_ref2015.params '\n",
    "    cmd += f'--out_folder {outdir_list[i]} '\n",
    "    cmd += f'--use_ligand 1 '\n",
    "    cmd += f'--num_seq_per_target 20 '\n",
    "    cmd += f'--sampling_temp 0.2 '\n",
    "    cmd += f'--omit_AAs C '\n",
    "    cmd += f'--ligand_genpot_params_path {home_dir}/FOL_0001_fix_genpot.params '\n",
    "    cmd += '--n_mpnn_FR_cycle 3 '\n",
    "    cmd += '--target_hb_atms N1,N2,N3,N4,O1,O2,O3,O4 '\n",
    "    cmd += '--dump_pdb 0 '\n",
    "    cmd += f'--repackable_res {pock_list[i]} '\n",
    "    cmd += '--target_atm_for_cst O2,O3,C16,C12,O6,N2'\n",
    "    cmds.append(cmd)"
   ]
  },
  {
   "cell_type": "code",
   "execution_count": 75,
   "id": "040d312c",
   "metadata": {},
   "outputs": [
    {
     "data": {
      "text/plain": [
       "('python /home/lhtran/sc/ligMPNN_FR.maskH.py --pdb_path /mnt/home/lhtran/class/cheme_577/C4_FOL_bb.pdb --ligand_params_path /mnt/home/lhtran/class/cheme_577/FOL_ref2015.params --out_folder /mnt/home/lhtran/class/cheme_577/ligMPNN//C4_FOL_bb --use_ligand 1 --num_seq_per_target 20 --sampling_temp 0.2 --omit_AAs C --ligand_genpot_params_path /mnt/home/lhtran/class/cheme_577/FOL_0001_fix_genpot.params --n_mpnn_FR_cycle 3 --target_hb_atms N1,N2,N3,N4,O1,O2,O3,O4 --dump_pdb 0 --repackable_res 4,6,8,9,10,16,17,18,19,20,21,23,33,34,35,36,37,46,49,50,51,52,60,61,62,63,64,65,66,75,76,77,78,79,80,81,82,91,92,93,94,95,97,104,107,108,109,110 --target_atm_for_cst O2,O3,C16,C12,O6,N2',\n",
       " 'python /home/lhtran/sc/ligMPNN_FR.maskH.py --pdb_path /mnt/home/lhtran/class/cheme_577/C4_FOL_bb_FTT.pdb --ligand_params_path /mnt/home/lhtran/class/cheme_577/FOL_ref2015.params --out_folder /mnt/home/lhtran/class/cheme_577/ligMPNN//C4_FOL_bb_FTT --use_ligand 1 --num_seq_per_target 20 --sampling_temp 0.2 --omit_AAs C --ligand_genpot_params_path /mnt/home/lhtran/class/cheme_577/FOL_0001_fix_genpot.params --n_mpnn_FR_cycle 3 --target_hb_atms N1,N2,N3,N4,O1,O2,O3,O4 --dump_pdb 0 --repackable_res 4,6,8,9,10,16,17,18,19,20,21,23,33,34,35,36,37,46,49,50,51,52,60,61,62,63,64,65,66,75,76,77,78,79,80,81,82,91,92,93,94,95,97,104,107,108,109,110 --target_atm_for_cst O2,O3,C16,C12,O6,N2')"
      ]
     },
     "execution_count": 75,
     "metadata": {},
     "output_type": "execute_result"
    }
   ],
   "source": [
    "#pock_list[1]\n",
    "cmds[0],cmds[1]"
   ]
  },
  {
   "attachments": {},
   "cell_type": "markdown",
   "id": "a5ee9d86",
   "metadata": {},
   "source": [
    "### plotting"
   ]
  },
  {
   "cell_type": "code",
   "execution_count": 6,
   "id": "1b9721e4",
   "metadata": {},
   "outputs": [
    {
     "name": "stderr",
     "output_type": "stream",
     "text": [
      "100%|██████████| 28/28 [00:00<00:00, 815.71it/s]\n"
     ]
    }
   ],
   "source": [
    "designed_scaffolds = glob.glob(f'{home_dir}/mpnn_af2/pdbs/*.pdb')\n",
    "\n",
    "df = {'path':[],'backbone_rmsd':[],'plddt':[],'ptm':[],'FTT':[]}\n",
    "\n",
    "\n",
    "for pdb_in in tqdm(designed_scaffolds):\n",
    "    af2_scores=get_af2_scores(pdb_in) #plddt, ptm, rmsd\n",
    "    df['path'].append(pdb_in)\n",
    "    df['backbone_rmsd'].append(af2_scores[-1])\n",
    "    df['plddt'].append(af2_scores[0])\n",
    "    df['ptm'].append(af2_scores[1])\n",
    "    if 'FTT' in pdb_in:\n",
    "        df['FTT'].append(1)\n",
    "    else:\n",
    "        df['FTT'].append(0)\n",
    "df = pd.DataFrame(df)"
   ]
  },
  {
   "cell_type": "code",
   "execution_count": 102,
   "id": "d76deab1",
   "metadata": {},
   "outputs": [
    {
     "data": {
      "text/plain": [
       "array([[<Axes: title={'center': 'plddt'}>]], dtype=object)"
      ]
     },
     "execution_count": 102,
     "metadata": {},
     "output_type": "execute_result"
    },
    {
     "data": {
      "image/png": "[encoded data removed]",
      "text/plain": [
       "<Figure size 640x480 with 1 Axes>"
      ]
     },
     "metadata": {},
     "output_type": "display_data"
    }
   ],
   "source": [
    "df.hist(column='plddt', bins=10)"
   ]
  },
  {
   "cell_type": "code",
   "execution_count": 7,
   "id": "7ac666e7",
   "metadata": {},
   "outputs": [],
   "source": [
    "plddt = df[df['FTT']==0]['plddt']\n",
    "plddt_ftt = df[df['FTT']==1]['plddt']\n",
    "rmsd = df[df['FTT']==0]['backbone_rmsd']\n",
    "rmsd_ftt = df[df['FTT']==1]['backbone_rmsd']"
   ]
  },
  {
   "cell_type": "code",
   "execution_count": 109,
   "id": "4be4d7e4",
   "metadata": {},
   "outputs": [
    {
     "data": {
      "text/plain": [
       "<matplotlib.legend.Legend at 0x7f0197ed8850>"
      ]
     },
     "execution_count": 109,
     "metadata": {},
     "output_type": "execute_result"
    },
    {
     "data": {
      "image/png": "[encoded data removed]",
      "text/plain": [
       "<Figure size 640x480 with 1 Axes>"
      ]
     },
     "metadata": {},
     "output_type": "display_data"
    }
   ],
   "source": [
    "plt.hist(plddt_ftt, label='ftt')\n",
    "plt.hist(plddt, label='non_ftt')\n",
    "plt.xlabel('af2_plddt')\n",
    "plt.ylabel('count')\n",
    "plt.legend()\n"
   ]
  },
  {
   "cell_type": "code",
   "execution_count": 10,
   "id": "36e41639",
   "metadata": {},
   "outputs": [
    {
     "data": {
      "text/plain": [
       "<matplotlib.legend.Legend at 0x7f4e8170ea70>"
      ]
     },
     "execution_count": 10,
     "metadata": {},
     "output_type": "execute_result"
    },
    {
     "data": {
      "image/png": "[encoded data removed]",
      "text/plain": [
       "<Figure size 640x480 with 1 Axes>"
      ]
     },
     "metadata": {},
     "output_type": "display_data"
    }
   ],
   "source": [
    "plt.hist(rmsd_ftt, label='ftt')\n",
    "plt.hist(rmsd, label='non_ftt')\n",
    "plt.xlabel('bb_rmsd')\n",
    "plt.ylabel('count')\n",
    "plt.legend()\n"
   ]
  },
  {
   "cell_type": "code",
   "execution_count": 11,
   "id": "6b100f50",
   "metadata": {},
   "outputs": [],
   "source": [
    "sc_dir = f'{home_dir}/ligMPNN/'"
   ]
  },
  {
   "cell_type": "code",
   "execution_count": 36,
   "id": "0c451879",
   "metadata": {},
   "outputs": [],
   "source": [
    "#count=0\n",
    "dirs = glob.glob(f'{sc_dir}/C4*')\n",
    "ligmpnn_fr_scores = None\n",
    "for each_dir in dirs:\n",
    "    f= glob.glob(f'{each_dir}/*.csv')\n",
    "    if f != []:\n",
    "        ligmpnn_fr_score = pd.read_csv(f[0])\n",
    "        path_col = pd.DataFrame()\n",
    "        path_col['path'] = [pdb for pdb in glob.glob(f'{each_dir}/*.pdb')]\n",
    "        ftt_col = pd.DataFrame()\n",
    "        if 'FTT' in each_dir:\n",
    "            ftt_col['FTT'] = [1 for pdb in glob.glob(f'{each_dir}/*.pdb')]\n",
    "        else:\n",
    "            ftt_col['FTT'] = [0 for pdb in glob.glob(f'{each_dir}/*.pdb')]\n",
    "        ligmpnn_fr_score = ligmpnn_fr_score[~ligmpnn_fr_score['ddg_after_relax_cst'].isna()]\n",
    "        ligmpnn_fr_score = ligmpnn_fr_score.reset_index(drop=True)\n",
    "        ligmpnn_fr_score = pd.concat([ligmpnn_fr_score, path_col],axis = 1) \n",
    "        ligmpnn_fr_score = pd.concat([ligmpnn_fr_score, ftt_col],axis = 1) \n",
    "        if ligmpnn_fr_scores is None:\n",
    "            ligmpnn_fr_scores = ligmpnn_fr_score\n",
    "        else:\n",
    "            ligmpnn_fr_scores = pd.concat([ligmpnn_fr_scores, ligmpnn_fr_score], axis=0)\n",
    "\n",
    "#     if (glob.glob(f'{each_dir}/*.csv')) != []:\n",
    "#         count+=1\n",
    "#         #print(each_dir)\n",
    "# count"
   ]
  },
  {
   "cell_type": "code",
   "execution_count": 37,
   "id": "15edf14d",
   "metadata": {},
   "outputs": [
    {
     "data": {
      "text/plain": [
       "<matplotlib.legend.Legend at 0x7f4e7c7b1360>"
      ]
     },
     "execution_count": 37,
     "metadata": {},
     "output_type": "execute_result"
    },
    {
     "data": {
      "image/png": "[encoded data removed]",
      "text/plain": [
       "<Figure size 640x480 with 1 Axes>"
      ]
     },
     "metadata": {},
     "output_type": "display_data"
    }
   ],
   "source": [
    "#ligmpnn_fr_scores.hist(column = 'ddg_after_relax_cst', bins=10)\n",
    "ftt_ddg = ligmpnn_fr_scores[ligmpnn_fr_scores['FTT']==1]['ddg_after_relax_cst']\n",
    "ddg = ligmpnn_fr_scores[ligmpnn_fr_scores['FTT']==0]['ddg_after_relax_cst']\n",
    "plt.hist(ftt_ddg, label='ftt')\n",
    "plt.hist(ddg, label='non_ftt')\n",
    "plt.xlabel('ddg_after_relax_cst')\n",
    "plt.ylabel('count')\n",
    "plt.legend()\n"
   ]
  }
 ],
 "metadata": {
  "kernelspec": {
   "display_name": "pyrosetta",
   "language": "python",
   "name": "python3"
  },
  "language_info": {
   "codemirror_mode": {
    "name": "ipython",
    "version": 3
   },
   "file_extension": ".py",
   "mimetype": "text/x-python",
   "name": "python",
   "nbconvert_exporter": "python",
   "pygments_lexer": "ipython3",
   "version": "3.10.9"
  }
 },
 "nbformat": 4,
 "nbformat_minor": 5
}
