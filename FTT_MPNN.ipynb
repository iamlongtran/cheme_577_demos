{
 "cells": [
  {
   "cell_type": "code",
   "execution_count": 1,
   "id": "2b2db50f",
   "metadata": {},
   "outputs": [
    {
     "name": "stderr",
     "output_type": "stream",
     "text": [
      "Matplotlib is building the font cache; this may take a moment.\n"
     ]
    }
   ],
   "source": [
    "### SE3nv for now, which do have pyrosetta\n",
    "import os\n",
    "import sys\n",
    "import re\n",
    "import random\n",
    "import numpy as np\n",
    "import pandas as pd\n",
    "import glob\n",
    "import yaml\n",
    "import matplotlib.pyplot as plt\n",
    "import seaborn as sns\n",
    "import subprocess\n",
    "from shutil import copyfile\n",
    "import tempfile\n",
    "import shutil\n",
    "from collections import defaultdict\n",
    "#import xarray\n",
    "import gzip\n",
    "import time\n",
    "import json\n",
    "from Bio import SeqIO\n",
    "import json\n",
    "from sklearn import metrics\n",
    "\n",
    "\n",
    "from sklearn.cluster import KMeans\n",
    "import sklearn.metrics as sm\n",
    "%matplotlib inline\n",
    "pd.options.display.max_colwidth = 1000\n",
    "\n",
    "sys.path.append('/home/lhtran/sc/')\n",
    "from get_rmsds_functions import TMalign\n",
    "from get_rmsds_functions import get_RMSD\n",
    "import check_interactions_to_lig\n",
    "\n",
    "from pyrosetta import *\n",
    "\n",
    "from libSlurm import make_submit_file\n",
    "from libSlurm import make_dist_plots\n",
    "from libSlurm import sed_inplace\n",
    "from libSlurm import grep\n",
    "from libSlurm import get_flags\n",
    "from libSlurm import plot_ROC\n",
    "from libCommonJupyterFunc import get_total_scores\n",
    "from check_interactions_to_lig import get_lig_num\n",
    "from check_interactions_to_lig import get_hb2lig\n",
    "from tqdm import tqdm"
   ]
  },
  {
   "cell_type": "code",
   "execution_count": 2,
   "id": "af9bdced",
   "metadata": {},
   "outputs": [],
   "source": [
    "home_dir = os.getcwd()\n",
    "\n",
    "# home_dir = f'/home/lhtran/projects/small_binders/est_binder/'\n",
    "# scratch_dir = f'/net/scratch/lhtran/est_binder/'\n",
    "# os.chdir(home_dir)"
   ]
  },
  {
   "cell_type": "code",
   "execution_count": 3,
   "id": "444a7a3b",
   "metadata": {},
   "outputs": [],
   "source": [
    "def RMSD(V, W):\n",
    "    \"\"\"\n",
    "    Calculate Root-mean-square deviation from two sets of vectors V and W.\n",
    "    Parameters\n",
    "    ----------\n",
    "    V : array\n",
    "        (N,D) matrix, where N is points and D is dimension.\n",
    "    W : array\n",
    "        (N,D) matrix, where N is points and D is dimension.\n",
    "    Returns\n",
    "    -------\n",
    "    rmsd : float\n",
    "        Root-mean-square deviation between the two vectors\n",
    "    \"\"\"\n",
    "    diff = np.array(V) - np.array(W)\n",
    "    N = len(V)\n",
    "    return np.sqrt((diff * diff).sum() / N)"
   ]
  },
  {
   "attachments": {},
   "cell_type": "markdown",
   "id": "58d917a5",
   "metadata": {},
   "source": [
    "## MPNN + AF2"
   ]
  },
  {
   "cell_type": "code",
   "execution_count": null,
   "id": "78d314ae",
   "metadata": {},
   "outputs": [],
   "source": [
    "## read pdb"
   ]
  },
  {
   "cell_type": "code",
   "execution_count": 5,
   "id": "413f39b7",
   "metadata": {},
   "outputs": [],
   "source": [
    "test_pdb = f'{home_dir}/3nir.pdb'"
   ]
  },
  {
   "cell_type": "code",
   "execution_count": 16,
   "id": "7f9b42f3",
   "metadata": {},
   "outputs": [],
   "source": [
    "### FTT test_pdb xyz coordinates\n",
    "new_xyz = []\n",
    "xyz = []\n",
    "new_pdb = []\n",
    "#simple_pdb = []\n",
    "with open(test_pdb, 'r') as f:\n",
    "    lines = f.readlines()\n",
    "    for line in lines:\n",
    "        atom_type = line[13:15].strip() #Ca/Cb/N/O/C\n",
    "        if line.startswith('ATOM') and (atom_type == 'CA' or atom_type == 'CB' or atom_type =='N' or atom_type =='O' or atom_type=='C'):\n",
    "            new_pdb.append(line)\n",
    "            #xyz_true=(list(line[30:54].split(' ')))\n",
    "            # xyz_np = []\n",
    "            # for k in xyz_true:\n",
    "            #     if k != '':\n",
    "            #         xyz_np.append(float(k))\n",
    "            # new_xyz.append(np.array(xyz_np))\n",
    "            # xyz.append(np.fft.fftn(new_xyz))\n",
    "            #print(atom_type)\n",
    "            #print(xyz)\n",
    "with open(f'{home_dir}/3nir_bb.pdb', 'w') as f:\n",
    "    for line in new_pdb:\n",
    "        f.write(line)"
   ]
  },
  {
   "cell_type": "code",
   "execution_count": 54,
   "id": "4e431230",
   "metadata": {},
   "outputs": [],
   "source": [
    "# FTT xyz coord of bb, noise, and inverse FTT\n",
    "xyz_true = []\n",
    "xyz_FTT = []\n",
    "xyz_IFTT = []\n",
    "with open(f'{home_dir}/3nir_bb.pdb', 'r') as f:\n",
    "    lines = f.readlines()\n",
    "    for line in lines:\n",
    "        xyz_curr = []\n",
    "        xyz = (list(line[30:54].split(' ')))\n",
    "        for j in xyz:\n",
    "            if j != '':\n",
    "                xyz_curr.append(float(j))\n",
    "        xyz_true.append(np.array(xyz_curr))\n",
    "\n",
    "for i in xyz_true:\n",
    "    xyz_ftt  = np.fft.fftn(i)\n",
    "    xyz_FTT.append(xyz_ftt)\n",
    "    xyz_IFTT.append(np.ndarray.round(np.real(np.fft.ifftn(xyz_ftt)), decimals=3))"
   ]
  },
  {
   "cell_type": "code",
   "execution_count": 73,
   "id": "62757790",
   "metadata": {},
   "outputs": [],
   "source": [
    "with open(f'{home_dir}/3nir_bb.pdb', 'r') as f:\n",
    "    lines = f.readlines()\n",
    "    with open(f'{home_dir}/3nir_bb_FTT.pdb', 'w') as f2:\n",
    "        for i,line in enumerate(lines):\n",
    "            line = line[:30] + f\"{(str(xyz_IFTT[i][0])):>8}\" + line[38:]\n",
    "            line = line[:38] + f\"{(str(xyz_IFTT[i][1])):>8}\" + line[46:]\n",
    "            line = line[:46] + f\"{(str(xyz_IFTT[i][2])):>8}\" + line[54:]\n",
    "            f2.write(line)\n",
    "            #print(line[33:38], line[38:46], line[46:54])\n",
    "\n"
   ]
  },
  {
   "cell_type": "code",
   "execution_count": 10,
   "id": "35cdb91a",
   "metadata": {},
   "outputs": [],
   "source": [
    "xyz_plot = []\n",
    "for tmp in xyz:\n",
    "    xyz_plot.append(tmp[0])"
   ]
  },
  {
   "cell_type": "code",
   "execution_count": 15,
   "id": "49e747f6",
   "metadata": {},
   "outputs": [
    {
     "data": {
      "text/plain": [
       "305"
      ]
     },
     "execution_count": 15,
     "metadata": {},
     "output_type": "execute_result"
    }
   ],
   "source": [
    "len(xyz_plot)"
   ]
  },
  {
   "cell_type": "code",
   "execution_count": 14,
   "id": "0680cf6b",
   "metadata": {},
   "outputs": [
    {
     "data": {
      "image/png": "[encoded data removed]",
      "text/plain": [
       "<Figure size 640x480 with 1 Axes>"
      ]
     },
     "metadata": {},
     "output_type": "display_data"
    }
   ],
   "source": [
    "# Number of samplepoints\n",
    "# N = 119\n",
    "# # sample spacing\n",
    "# T = 1.0 / 800.0\n",
    "# x = np.linspace(0.0, N*T, N)\n",
    "# y = np.sin(50.0 * 2.0*np.pi*x) + 0.5*np.sin(80.0 * 2.0*np.pi*x)\n",
    "# #yf = scipy.fftpack.fft(y)\n",
    "# yf = xyz_plot\n",
    "# xf = np.linspace(0.0, 1.0/(2.0*T), N//2)\n",
    "\n",
    "# fig, ax = plt.subplots()\n",
    "# ax.plot(xf, 2.0/N * np.abs(yf[:N//2][0]))\n",
    "# ax.set(\n",
    "#     xlim=(0, 100)\n",
    "# )\n",
    "# plt.show()\n",
    "len(xyz_plot)\n",
    "x_plot = [x.real for x in xyz_plot]\n",
    "y_plot = [x.imag for x in xyz_plot]\n",
    "plt.scatter(x_plot, y_plot)\n",
    "plt.ylabel('Imaginary')\n",
    "plt.xlabel('Real')\n",
    "plt.title('C-alpha FFT space')\n",
    "plt.show()"
   ]
  },
  {
   "cell_type": "code",
   "execution_count": 107,
   "id": "93d01324",
   "metadata": {},
   "outputs": [],
   "source": [
    "import get_pock_res_return as pockres"
   ]
  },
  {
   "cell_type": "code",
   "execution_count": 71,
   "id": "2b9db289",
   "metadata": {},
   "outputs": [],
   "source": [
    "pdbs = [f'{home_dir}/3nir_bb.pdb', f'{home_dir}/3nir_bb_FTT.pdb']\n",
    "cmds = []\n",
    "for pdb in pdbs:\n",
    "\n",
    "    pdb_name = pdb.split('/')[-1].split('.')[:-4]\n",
    "    cmd = '/software/conda/envs/PPI_design/bin/python /home/lhtran/sc/mpnn_generic_tied_design2.py --design_these_chains A --keep_these_chains NA --tie_chainsa NA --tie_chainsb NA --tie_repeats 0 --fix_a NA'\n",
    "    cmd += ' --fix_b NA --rmsd_cutoff 1.0 --max_designs_per_backbone 5 --num_seq_per_target 8 --sampling_temp \" 0.2 0.3\" --plddt_cutoff 0.9 --ptm_cutoff 0.65 --pdb_path '\n",
    "    cmd += pdb\n",
    "    cmd += f' --out_name resampling --suffix _pbias --pdb_out_dir /home/lhtran/class/cheme_577/mpnn_af2/pdbs'\n",
    "    cmd += '\\n'\n",
    "    cmds.append(cmd)\n",
    "    # with open(f'{home_dir}/mpnn_af2/{pdb}/array_task_mpnn_af2', 'w') as fp:\n",
    "    #     for j in cmds:\n",
    "    #         fp.write(j)"
   ]
  },
  {
   "cell_type": "code",
   "execution_count": 72,
   "id": "f6a6332f",
   "metadata": {},
   "outputs": [
    {
     "data": {
      "text/plain": [
       "('/software/conda/envs/PPI_design/bin/python /home/lhtran/sc/mpnn_generic_tied_design2.py --design_these_chains A --keep_these_chains NA --tie_chainsa NA --tie_chainsb NA --tie_repeats 0 --fix_a NA --fix_b NA --max_designs_per_backbone 5 --num_seq_per_target 8 --sampling_temp \" 0.2 0.3\" --plddt_cutoff 0.9 --ptm_cutoff 0.65 --pdb_path /mnt/home/lhtran/class/cheme_577/3nir_bb.pdb --out_name resampling --suffix _pbias --pdb_out_dir /home/lhtran/class/cheme_577/mpnn_af2/pdbs\\n',\n",
       " '/software/conda/envs/PPI_design/bin/python /home/lhtran/sc/mpnn_generic_tied_design2.py --design_these_chains A --keep_these_chains NA --tie_chainsa NA --tie_chainsb NA --tie_repeats 0 --fix_a NA --fix_b NA --max_designs_per_backbone 5 --num_seq_per_target 8 --sampling_temp \" 0.2 0.3\" --plddt_cutoff 0.9 --ptm_cutoff 0.65 --pdb_path /mnt/home/lhtran/class/cheme_577/3nir_bb_FTT.pdb --out_name resampling --suffix _pbias --pdb_out_dir /home/lhtran/class/cheme_577/mpnn_af2/pdbs\\n')"
      ]
     },
     "execution_count": 72,
     "metadata": {},
     "output_type": "execute_result"
    }
   ],
   "source": [
    "cmds[0],cmds[1]"
   ]
  },
  {
   "attachments": {},
   "cell_type": "markdown",
   "id": "3561e1fd",
   "metadata": {},
   "source": [
    "## SuperFold/ESMFold"
   ]
  },
  {
   "cell_type": "code",
   "execution_count": 7,
   "id": "e774d96e",
   "metadata": {},
   "outputs": [],
   "source": [
    "## prep pdb input from ligMPNN_FR\n",
    "ligmpnn_fr_scores = pd.read_csv(f'{home_dir}/ligmpnn_fr_scores_all.csv')\n",
    "len(ligmpnn_fr_scores)/20 #1494"
   ]
  }
 ],
 "metadata": {
  "kernelspec": {
   "display_name": "pyrosetta",
   "language": "python",
   "name": "python3"
  },
  "language_info": {
   "codemirror_mode": {
    "name": "ipython",
    "version": 3
   },
   "file_extension": ".py",
   "mimetype": "text/x-python",
   "name": "python",
   "nbconvert_exporter": "python",
   "pygments_lexer": "ipython3",
   "version": "3.10.9"
  }
 },
 "nbformat": 4,
 "nbformat_minor": 5
}
